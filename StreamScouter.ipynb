{
 "cells": [
  {
   "cell_type": "markdown",
   "id": "9f8a2c5a",
   "metadata": {},
   "source": [
    "# Stream Scouter\n",
    "\n",
    "This notebook demonstrates a recommendation system that leverages the power of Sentence Transformers. We load a dataset of Netflix titles and their descriptions, compute embeddings for each description, and then, given a user query, return the top recommendations based on the cosine similarity between the query and the movie/TV show descriptions.\n",
    "\n",
    "**Libraries used:**\n",
    "- **torch**: For PyTorch operations and handling CUDA if available.\n",
    "- **pandas & numpy**: For data manipulation.\n",
    "- **sentence_transformers**: To obtain pre-trained models that compute sentence embeddings.\n",
    "- **rich**: For displaying the recommendations in a colorful and formatted table.\n",
    "\n",
    "Follow the cells to see how the data is loaded, processed, and how recommendations are generated."
   ]
  },
  {
   "cell_type": "markdown",
   "id": "ed81abc4",
   "metadata": {},
   "source": [
    "# Installing all requirements"
   ]
  },
  {
   "cell_type": "code",
   "execution_count": null,
   "id": "493e2503",
   "metadata": {},
   "outputs": [],
   "source": [
    "!pip install pandas numpy sentence_transformers rich\n",
    "!pip install torch torchvision torchaudio --index-url https://download.pytorch.org/whl/cu126"
   ]
  },
  {
   "cell_type": "code",
   "execution_count": null,
   "id": "b6851b40",
   "metadata": {},
   "outputs": [],
   "source": [
    "# Import necessary libraries\n",
    "import torch\n",
    "import pandas as pd\n",
    "import numpy as np\n",
    "from sentence_transformers import SentenceTransformer, util\n",
    "from rich.console import Console\n",
    "from rich.table import Table\n",
    "from rich import box\n",
    "\n",
    "# Determine whether to use a GPU (CUDA) if available or fall back to CPU\n",
    "device = 'cuda' if torch.cuda.is_available() else 'cpu'\n",
    "console = Console()\n",
    "console.print(f\"[bold green]Using device: {device}[/bold green]\")"
   ]
  },
  {
   "cell_type": "markdown",
   "id": "1d582a25",
   "metadata": {},
   "source": [
    "## Loading and Preparing the Data\n",
    "\n",
    "We load the `netflix_titles.csv` file into a pandas DataFrame. Since our recommendation system is based on movie descriptions, we drop any entries that do not have a description."
   ]
  },
  {
   "cell_type": "code",
   "execution_count": null,
   "id": "20a72567",
   "metadata": {},
   "outputs": [],
   "source": [
    "# Load the Netflix dataset and remove entries with missing descriptions\n",
    "df = pd.read_csv('netflix_titles.csv')\n",
    "df = df.dropna(subset=['description']).reset_index(drop=True)"
   ]
  },
  {
   "cell_type": "markdown",
   "id": "07b63c6d",
   "metadata": {},
   "source": [
    "## Loading the Pre-trained Model and Computing Embeddings\n",
    "\n",
    "We use the multilingual model `paraphrase-multilingual-MiniLM-L12-v2` from Sentence Transformers. This model is capable of generating embeddings for descriptions in multiple languages. We then compute embeddings for every movie/TV show description in our dataset."
   ]
  },
  {
   "cell_type": "code",
   "execution_count": null,
   "id": "df92694e",
   "metadata": {},
   "outputs": [],
   "source": [
    "# Load the pre-trained Sentence Transformer model on the specified device\n",
    "model = SentenceTransformer('paraphrase-multilingual-MiniLM-L12-v2', device=device)\n",
    "\n",
    "# Extract descriptions from the DataFrame and compute embeddings\n",
    "descriptions = df['description'].tolist()\n",
    "desc_embeddings = model.encode(descriptions, convert_to_tensor=True, device=device)"
   ]
  },
  {
   "cell_type": "markdown",
   "id": "cdb6f66d",
   "metadata": {},
   "source": [
    "## Recommendation Function\n",
    "\n",
    "The `recommend_movie` function takes a user query and returns the top `n` recommended movies/TV shows based on the cosine similarity between the query embedding and the description embeddings.\n",
    "\n",
    "**Steps:**\n",
    "1. Compute the embedding for the query.\n",
    "2. Compute cosine similarity scores between the query and all movie descriptions.\n",
    "3. Identify the indices corresponding to the top recommendations.\n",
    "4. Return a DataFrame with the recommended titles and additional information."
   ]
  },
  {
   "cell_type": "code",
   "execution_count": null,
   "id": "60dbaf7f",
   "metadata": {},
   "outputs": [],
   "source": [
    "def recommend_movie(query, model, desc_embeddings, df, top_n=5):\n",
    "    # Compute embedding for the query\n",
    "    query_embedding = model.encode(query, convert_to_tensor=True, device=device)\n",
    "    \n",
    "    # Calculate cosine similarity between the query and all movie descriptions\n",
    "    cosine_scores = util.cos_sim(query_embedding, desc_embeddings)[0]\n",
    "    \n",
    "    # Move scores to CPU and convert to a numpy array for further processing\n",
    "    cosine_scores_cpu = cosine_scores.cpu().numpy()\n",
    "    \n",
    "    # Get indices of the top_n most similar descriptions\n",
    "    top_indices = np.argpartition(-cosine_scores_cpu, range(top_n))[:top_n]\n",
    "    top_indices = top_indices[np.argsort(-cosine_scores_cpu[top_indices])]\n",
    "    \n",
    "    # Prepare a DataFrame with the top recommendations and compute match percentage\n",
    "    recommended_df = df.iloc[top_indices][['title', 'description', 'listed_in', 'release_year']].copy()\n",
    "    recommended_df['match_percentage'] = cosine_scores_cpu[top_indices] * 100\n",
    "    return recommended_df"
   ]
  },
  {
   "cell_type": "markdown",
   "id": "3f1e27c3",
   "metadata": {},
   "source": [
    "## Displaying Recommendations\n",
    "\n",
    "The `display_recommendations` function uses the `rich` library to display the recommendations in a well-formatted and colorful table. Each row includes the movie/TV show title, description, genre (listed_in), release year, and the matching percentage."
   ]
  },
  {
   "cell_type": "code",
   "execution_count": null,
   "id": "e6f3d8b2",
   "metadata": {},
   "outputs": [],
   "source": [
    "def display_recommendations(recommendations: pd.DataFrame):\n",
    "    table = Table(\n",
    "        title=\"[bold bright_blue]Recommended movies/TV Shows[/bold bright_blue]\",\n",
    "        title_style=\"bold underline\",\n",
    "        box=box.DOUBLE_EDGE,\n",
    "        border_style=\"bright_green\",\n",
    "        show_lines=True,\n",
    "        padding=(0, 1)\n",
    "    )\n",
    "\n",
    "    # Define table columns with styling\n",
    "    table.add_column(\"Name\", style=\"bold cyan\", no_wrap=False)\n",
    "    table.add_column(\"Description\", style=\"green\", no_wrap=False, overflow=\"fold\", justify=\"left\")\n",
    "    table.add_column(\"Listed in\", style=\"magenta\", no_wrap=False)\n",
    "    table.add_column(\"Release Year\", style=\"yellow\", no_wrap=True)\n",
    "    table.add_column(\"Match\", style=\"bright_red\", no_wrap=True)\n",
    "\n",
    "    # Add each recommendation as a row in the table\n",
    "    for _, row in recommendations.iterrows():\n",
    "        table.add_row(\n",
    "            f\"[bold]{row['title']}[/bold]\",\n",
    "            row['description'],\n",
    "            row['listed_in'],\n",
    "            str(row['release_year']),\n",
    "            f\"{row['match_percentage']:.2f}%\"\n",
    "        )\n",
    "\n",
    "    console.print(table)"
   ]
  },
  {
   "cell_type": "markdown",
   "id": "31b9d46a",
   "metadata": {},
   "source": [
    "## Interactive Query Loop\n",
    "\n",
    "The final cell creates an interactive loop where the user can enter a query (e.g., a movie description or keywords) and receive the top recommendations based on semantic similarity. Type `'exit'` to stop the loop."
   ]
  },
  {
   "cell_type": "code",
   "execution_count": null,
   "id": "c41c22d2",
   "metadata": {},
   "outputs": [],
   "source": [
    "# Interactive loop to receive user queries and display recommendations\n",
    "while True:\n",
    "    query = input(\"Enter query (or 'exit' to stop): \")\n",
    "    if query.lower() == 'exit':\n",
    "        break\n",
    "    # Retrieve top 3 recommendations for the query\n",
    "    recommendations = recommend_movie(query, model, desc_embeddings, df, top_n=3)\n",
    "    display_recommendations(recommendations)"
   ]
  }
 ],
 "metadata": {
  "kernelspec": {
   "display_name": "Python 3",
   "language": "python",
   "name": "python3"
  },
  "language_info": {
   "name": "python",
   "version": "3.x"
  }
 },
 "nbformat": 4,
 "nbformat_minor": 5
}
